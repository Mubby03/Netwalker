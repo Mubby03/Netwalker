{
  "nbformat": 4,
  "nbformat_minor": 0,
  "metadata": {
    "colab": {
      "provenance": [],
      "authorship_tag": "ABX9TyMcNChip8LJBsVsowijiTQX",
      "include_colab_link": true
    },
    "kernelspec": {
      "name": "python3",
      "display_name": "Python 3"
    },
    "language_info": {
      "name": "python"
    }
  },
  "cells": [
    {
      "cell_type": "markdown",
      "metadata": {
        "id": "view-in-github",
        "colab_type": "text"
      },
      "source": [
        "<a href=\"https://colab.research.google.com/github/Mubby03/Netwalker/blob/master/Premier%20League%20Model.ipynb\" target=\"_parent\"><img src=\"https://colab.research.google.com/assets/colab-badge.svg\" alt=\"Open In Colab\"/></a>"
      ]
    },
    {
      "cell_type": "code",
      "execution_count": null,
      "metadata": {
        "id": "WgMOkNuAj4z-"
      },
      "outputs": [],
      "source": [
        "# Data handling\n",
        "import pandas as pd\n",
        "import numpy as np\n",
        "\n",
        "# Visualization\n",
        "import matplotlib.pyplot as plt\n",
        "import seaborn as sns\n",
        "\n",
        "# Machine learning\n",
        "from sklearn.model_selection import train_test_split, GridSearchCV\n",
        "from sklearn.preprocessing import OneHotEncoder, StandardScaler\n",
        "from sklearn.metrics import accuracy_score, confusion_matrix, classification_report\n",
        "\n",
        "# Models\n",
        "from sklearn.ensemble import RandomForestClassifier\n",
        "from xgboost import XGBClassifier"
      ]
    },
    {
      "cell_type": "code",
      "source": [
        "import pandas as pd\n",
        "from google.colab import drive\n",
        "drive.mount('/content/drive')\n",
        "\n",
        "# Replace 'home' with the exact path if needed\n",
        "file_path = '/content/drive/MyDrive/epl_final.csv'\n",
        "df = pd.read_csv(file_path)\n",
        "\n",
        "# Quick check\n",
        "print(\"Dataset loaded! Number of rows:\", len(df))\n",
        "print(df.head())\n"
      ],
      "metadata": {
        "colab": {
          "base_uri": "https://localhost:8080/"
        },
        "id": "g36VCUInlWAw",
        "outputId": "e00a3bc6-0425-42a0-af33-af0931c9cb9f"
      },
      "execution_count": null,
      "outputs": [
        {
          "output_type": "stream",
          "name": "stdout",
          "text": [
            "Drive already mounted at /content/drive; to attempt to forcibly remount, call drive.mount(\"/content/drive\", force_remount=True).\n",
            "Dataset loaded! Number of rows: 9380\n",
            "    Season   MatchDate  HomeTeam       AwayTeam  FullTimeHomeGoals  \\\n",
            "0  2000/01  2000-08-19  Charlton       Man City                  4   \n",
            "1  2000/01  2000-08-19   Chelsea       West Ham                  4   \n",
            "2  2000/01  2000-08-19  Coventry  Middlesbrough                  1   \n",
            "3  2000/01  2000-08-19     Derby    Southampton                  2   \n",
            "4  2000/01  2000-08-19     Leeds        Everton                  2   \n",
            "\n",
            "   FullTimeAwayGoals FullTimeResult  HalfTimeHomeGoals  HalfTimeAwayGoals  \\\n",
            "0                  0              H                  2                  0   \n",
            "1                  2              H                  1                  0   \n",
            "2                  3              A                  1                  1   \n",
            "3                  2              D                  1                  2   \n",
            "4                  0              H                  2                  0   \n",
            "\n",
            "  HalfTimeResult  ...  HomeShotsOnTarget  AwayShotsOnTarget  HomeCorners  \\\n",
            "0              H  ...                 14                  4            6   \n",
            "1              H  ...                 10                  5            7   \n",
            "2              D  ...                  3                  9            8   \n",
            "3              A  ...                  4                  6            5   \n",
            "4              H  ...                  8                  6            6   \n",
            "\n",
            "   AwayCorners  HomeFouls  AwayFouls  HomeYellowCards  AwayYellowCards  \\\n",
            "0            6         13         12                1                2   \n",
            "1            7         19         14                1                2   \n",
            "2            4         15         21                5                3   \n",
            "3            8         11         13                1                1   \n",
            "4            4         21         20                1                3   \n",
            "\n",
            "   HomeRedCards  AwayRedCards  \n",
            "0             0             0  \n",
            "1             0             0  \n",
            "2             1             0  \n",
            "3             0             0  \n",
            "4             0             0  \n",
            "\n",
            "[5 rows x 22 columns]\n"
          ]
        }
      ]
    },
    {
      "cell_type": "code",
      "source": [
        "# Check column names\n",
        "print(df.columns)\n",
        "\n",
        "# Check for missing values\n",
        "print(df.isnull().sum())\n",
        "\n",
        "# Inspect data types\n",
        "print(df.dtypes)\n"
      ],
      "metadata": {
        "colab": {
          "base_uri": "https://localhost:8080/"
        },
        "id": "jJNGmGm0lmOU",
        "outputId": "a8d7ee1b-6db3-4c09-e15d-96a76cb17aea"
      },
      "execution_count": null,
      "outputs": [
        {
          "output_type": "stream",
          "name": "stdout",
          "text": [
            "Index(['Season', 'MatchDate', 'HomeTeam', 'AwayTeam', 'FullTimeHomeGoals',\n",
            "       'FullTimeAwayGoals', 'FullTimeResult', 'HalfTimeHomeGoals',\n",
            "       'HalfTimeAwayGoals', 'HalfTimeResult', 'HomeShots', 'AwayShots',\n",
            "       'HomeShotsOnTarget', 'AwayShotsOnTarget', 'HomeCorners', 'AwayCorners',\n",
            "       'HomeFouls', 'AwayFouls', 'HomeYellowCards', 'AwayYellowCards',\n",
            "       'HomeRedCards', 'AwayRedCards'],\n",
            "      dtype='object')\n",
            "Season               0\n",
            "MatchDate            0\n",
            "HomeTeam             0\n",
            "AwayTeam             0\n",
            "FullTimeHomeGoals    0\n",
            "FullTimeAwayGoals    0\n",
            "FullTimeResult       0\n",
            "HalfTimeHomeGoals    0\n",
            "HalfTimeAwayGoals    0\n",
            "HalfTimeResult       0\n",
            "HomeShots            0\n",
            "AwayShots            0\n",
            "HomeShotsOnTarget    0\n",
            "AwayShotsOnTarget    0\n",
            "HomeCorners          0\n",
            "AwayCorners          0\n",
            "HomeFouls            0\n",
            "AwayFouls            0\n",
            "HomeYellowCards      0\n",
            "AwayYellowCards      0\n",
            "HomeRedCards         0\n",
            "AwayRedCards         0\n",
            "dtype: int64\n",
            "Season               object\n",
            "MatchDate            object\n",
            "HomeTeam             object\n",
            "AwayTeam             object\n",
            "FullTimeHomeGoals     int64\n",
            "FullTimeAwayGoals     int64\n",
            "FullTimeResult       object\n",
            "HalfTimeHomeGoals     int64\n",
            "HalfTimeAwayGoals     int64\n",
            "HalfTimeResult       object\n",
            "HomeShots             int64\n",
            "AwayShots             int64\n",
            "HomeShotsOnTarget     int64\n",
            "AwayShotsOnTarget     int64\n",
            "HomeCorners           int64\n",
            "AwayCorners           int64\n",
            "HomeFouls             int64\n",
            "AwayFouls             int64\n",
            "HomeYellowCards       int64\n",
            "AwayYellowCards       int64\n",
            "HomeRedCards          int64\n",
            "AwayRedCards          int64\n",
            "dtype: object\n"
          ]
        }
      ]
    },
    {
      "cell_type": "code",
      "source": [
        "target = 'FullTimeResult'\n",
        "features = df.drop(columns=[target, 'Season', 'MatchDate'])"
      ],
      "metadata": {
        "id": "OcH7J8fUnlPC"
      },
      "execution_count": null,
      "outputs": []
    },
    {
      "cell_type": "code",
      "source": [
        "categorical_cols = ['HomeTeam', 'AwayTeam']\n",
        "\n",
        "df_encoded = pd.get_dummies(df, columns=categorical_cols)\n"
      ],
      "metadata": {
        "id": "7kgmSoxmnx9_"
      },
      "execution_count": null,
      "outputs": []
    },
    {
      "cell_type": "code",
      "source": [
        "X = df_encoded.drop(columns=[target])\n",
        "y = df[target]\n",
        "\n",
        "# Optional: convert H/D/A to numeric labels\n",
        "from sklearn.preprocessing import LabelEncoder\n",
        "\n",
        "le = LabelEncoder()\n",
        "y_encoded = le.fit_transform(y)  # H->0, D->1, A->2\n"
      ],
      "metadata": {
        "id": "HANDM9S8n0bI"
      },
      "execution_count": null,
      "outputs": []
    },
    {
      "cell_type": "code",
      "source": [
        "from sklearn.model_selection import train_test_split\n",
        "\n",
        "X_train, X_test, y_train, y_test = train_test_split(\n",
        "    X, y_encoded, test_size=0.2, random_state=42, stratify=y_encoded\n",
        ")\n"
      ],
      "metadata": {
        "id": "mJ91vTwqn2Bc"
      },
      "execution_count": null,
      "outputs": []
    },
    {
      "cell_type": "code",
      "source": [
        "# Columns to drop\n",
        "drop_cols = ['Season', 'MatchDate', 'HalfTimeResult', 'FullTimeResult']  # target is separate\n",
        "\n",
        "X = df.drop(columns=drop_cols)\n",
        "y = df['FullTimeResult']\n",
        "\n",
        "# One-hot encode the teams\n",
        "X = pd.get_dummies(X, columns=['HomeTeam', 'AwayTeam'])\n",
        "\n",
        "# Convert all remaining object columns (if any) to numeric\n",
        "for col in X.select_dtypes(include=['object']).columns:\n",
        "    X[col] = pd.to_numeric(X[col], errors='coerce')  # convert or set NaN\n"
      ],
      "metadata": {
        "id": "RJzUe33pn3x5"
      },
      "execution_count": null,
      "outputs": []
    },
    {
      "cell_type": "code",
      "source": [
        "from sklearn.model_selection import train_test_split\n",
        "from sklearn.preprocessing import LabelEncoder\n",
        "\n",
        "# Encode target\n",
        "le = LabelEncoder()\n",
        "y_encoded = le.fit_transform(y)  # H -> 0, D -> 1, A -> 2\n",
        "\n",
        "# Train/test split\n",
        "X_train, X_test, y_train, y_test = train_test_split(\n",
        "    X, y_encoded, test_size=0.2, random_state=42, stratify=y_encoded\n",
        ")\n"
      ],
      "metadata": {
        "id": "uD-C0bhan5Xi"
      },
      "execution_count": null,
      "outputs": []
    },
    {
      "cell_type": "code",
      "source": [
        "import pandas as pd\n",
        "import numpy as np\n",
        "from collections import Counter\n",
        "from google.colab import drive\n",
        "import tensorflow as tf\n",
        "from tensorflow.keras import layers, Model, Input\n",
        "from tensorflow.keras.utils import to_categorical"
      ],
      "metadata": {
        "id": "ho-ba8CmhD8l"
      },
      "execution_count": null,
      "outputs": []
    },
    {
      "cell_type": "code",
      "source": [
        "\n",
        "# Optional: install shap in runtime if not already installed\n",
        "# try:\n",
        "#     import shap\n",
        "# except Exception:\n",
        "#     print(\"shap not present; installing...\")\n",
        "#     !pip install -q shap\n",
        "#     import shap\n",
        "\n",
        "# --------------------------\n",
        "# 1) Load dataset (mount)\n",
        "# --------------------------\n",
        "drive.mount('/content/drive', force_remount=True)\n",
        "file_path = '/content/drive/MyDrive/epl_final.csv'\n",
        "df = pd.read_csv(file_path)\n",
        "\n",
        "# Basic cleaning / prepare\n",
        "df.columns = df.columns.str.strip().str.replace(' ', '_')\n",
        "date_cols = [c for c in df.columns if 'date' in c.lower()]\n",
        "if len(date_cols) == 0:\n",
        "    raise RuntimeError(\"No date column found.\")\n",
        "date_col = date_cols[0]\n",
        "df[date_col] = pd.to_datetime(df[date_col], errors='coerce', infer_datetime_format=True)\n",
        "df = df.dropna(subset=[date_col]).sort_values(by=date_col).reset_index(drop=True)\n",
        "\n",
        "required = ['FullTimeHomeGoals','FullTimeAwayGoals','HomeShots','AwayShots',\n",
        "            'HomeShotsOnTarget','AwayShotsOnTarget','HomeCorners','AwayCorners',\n",
        "            'HomeFouls','AwayFouls','FullTimeResult','HomeTeam','AwayTeam']\n",
        "missing = [c for c in required if c not in df.columns]\n",
        "if missing:\n",
        "    raise RuntimeError(f\"Missing columns: {missing}\")\n",
        "\n",
        "def result_to_label(r):\n",
        "    if r == 'H': return 2\n",
        "    elif r == 'D': return 1\n",
        "    else: return 0\n",
        "df['label'] = df['FullTimeResult'].apply(result_to_label)\n",
        "\n",
        "# --------------------------\n",
        "# 2) Build per-team sequences\n",
        "# --------------------------\n",
        "N = 5  # number of past games\n",
        "\n",
        "def build_team_sequences(df):\n",
        "    team_history = {}\n",
        "    teams = pd.concat([df['HomeTeam'], df['AwayTeam']]).unique()\n",
        "    for team in teams:\n",
        "        tdf = df[(df['HomeTeam']==team) | (df['AwayTeam']==team)].sort_values(by=date_col)\n",
        "        seq = []\n",
        "        for _, r in tdf.iterrows():\n",
        "            if r['HomeTeam'] == team:\n",
        "                stats = [r['FullTimeHomeGoals'], r['FullTimeAwayGoals'], r['HomeShots'], r['AwayShots'],\n",
        "                         r['HomeShotsOnTarget'], r['AwayShotsOnTarget'], r['HomeCorners'], r['AwayCorners'],\n",
        "                         r['HomeFouls'], r['AwayFouls']]\n",
        "            else:\n",
        "                stats = [r['FullTimeAwayGoals'], r['FullTimeHomeGoals'], r['AwayShots'], r['HomeShots'],\n",
        "                         r['AwayShotsOnTarget'], r['HomeShotsOnTarget'], r['AwayCorners'], r['HomeCorners'],\n",
        "                         r['AwayFouls'], r['HomeFouls']]\n",
        "            seq.append(stats)\n",
        "        team_history[team] = np.array(seq, dtype=float) if len(seq)>0 else np.zeros((0,10))\n",
        "    return team_history\n",
        "\n",
        "team_sequences = build_team_sequences(df)\n",
        "print(\"Team sequences built for:\", len(team_sequences))\n",
        "\n",
        "# --------------------------\n",
        "# 3) Build match-level arrays\n",
        "# --------------------------\n",
        "X_home, X_away, y, match_dates = [], [], [], []\n",
        "for _, row in df.iterrows():\n",
        "    h, a = row['HomeTeam'], row['AwayTeam']\n",
        "    if h not in team_sequences or a not in team_sequences:\n",
        "        continue\n",
        "    def lastN(seq):\n",
        "        if seq.shape[0] >= N: return seq[-N:]\n",
        "        pad = np.zeros((N - seq.shape[0], seq.shape[1]))\n",
        "        return np.vstack((pad, seq))\n",
        "    X_home.append(lastN(team_sequences[h]))\n",
        "    X_away.append(lastN(team_sequences[a]))\n",
        "    y.append(int(row['label']))\n",
        "    match_dates.append(row[date_col])\n",
        "\n",
        "X_home, X_away, y = np.array(X_home), np.array(X_away), np.array(y)\n",
        "match_dates = pd.Series(match_dates)\n",
        "y_cat = to_categorical(y, 3)\n",
        "print(\" Shapes:\", X_home.shape, X_away.shape, y_cat.shape)\n",
        "\n",
        "# --------------------------\n",
        "# 4) Time-based train/test split\n",
        "# --------------------------\n",
        "match_dates_num = match_dates.view(\"int64\") // 10**9\n",
        "split_val = np.percentile(match_dates_num, 80)\n",
        "train_idx = match_dates_num < split_val\n",
        "test_idx = match_dates_num >= split_val\n",
        "\n",
        "Xh_train, Xh_test = X_home[train_idx], X_home[test_idx]\n",
        "Xa_train, Xa_test = X_away[train_idx], X_away[test_idx]\n",
        "y_train, y_test = y_cat[train_idx], y_cat[test_idx]\n",
        "print(\"Train/Test:\", len(y_train), len(y_test))\n",
        "\n",
        "# --------------------------\n",
        "# 5) Build Dual-BiLSTM model with goals regression heads\n",
        "# --------------------------\n",
        "F = X_home.shape[2]\n",
        "home_in, away_in = Input((N,F)), Input((N,F))\n",
        "home_lstm = layers.Bidirectional(layers.LSTM(64))(home_in)\n",
        "away_lstm = layers.Bidirectional(layers.LSTM(64))(away_in)\n",
        "x = layers.Concatenate()([home_lstm, away_lstm])\n",
        "x = layers.Dense(128, activation='relu')(x)\n",
        "x = layers.Dropout(0.3)(x)\n",
        "\n",
        "clf_out = layers.Dense(3, activation='softmax', name='result_out')(x)\n",
        "home_goal_out = layers.Dense(1, activation='linear', name='home_goal_out')(x)\n",
        "away_goal_out = layers.Dense(1, activation='linear', name='away_goal_out')(x)\n",
        "\n",
        "model = Model([home_in, away_in], [clf_out, home_goal_out, away_goal_out])\n",
        "model.compile(optimizer='adam',\n",
        "              loss={'result_out':'categorical_crossentropy','home_goal_out':'mse','away_goal_out':'mse'},\n",
        "              loss_weights={'result_out':1.0,'home_goal_out':0.5,'away_goal_out':0.5},\n",
        "              metrics={'result_out':'accuracy'})\n",
        "model.summary()\n",
        "\n",
        "# --------------------------\n",
        "# 6) Train\n",
        "# --------------------------\n",
        "home_goals = df['FullTimeHomeGoals'].astype(float).values\n",
        "away_goals = df['FullTimeAwayGoals'].astype(float).values\n",
        "hg_train, hg_test = home_goals[train_idx], home_goals[test_idx]\n",
        "ag_train, ag_test = away_goals[train_idx], away_goals[test_idx]\n",
        "\n",
        "history = model.fit([Xh_train, Xa_train],\n",
        "                    {'result_out':y_train, 'home_goal_out':hg_train, 'away_goal_out':ag_train},\n",
        "                    validation_data=([Xh_test, Xa_test], {'result_out':y_test, 'home_goal_out':hg_test, 'away_goal_out':ag_test}),\n",
        "                    epochs=20, batch_size=64, verbose=2)\n",
        "\n",
        "# --------------------------\n",
        "# 7) Predict fixture with Poisson simulation\n",
        "# --------------------------\n",
        "from collections import Counter\n",
        "def predict_fixture_with_scores(home_team, away_team, sims=5000, top_n=6):\n",
        "    def build_seq(team):\n",
        "        seq = team_sequences[team]\n",
        "        if seq.shape[0] >= N:\n",
        "            return seq[-N:].reshape(1,N,F)\n",
        "        pad = np.zeros((N - seq.shape[0], seq.shape[1]))\n",
        "        return np.vstack((pad, seq)).reshape(1,N,F)\n",
        "    hs, as_ = build_seq(home_team), build_seq(away_team)\n",
        "    clf_p, h_mean, a_mean = model.predict([hs, as_])\n",
        "    h_mean, a_mean = float(h_mean[0][0]), float(a_mean[0][0])\n",
        "    clf_probs = clf_p[0]\n",
        "    sims_results = [(np.random.poisson(h_mean), np.random.poisson(a_mean)) for _ in range(sims)]\n",
        "    cnt = Counter(sims_results)\n",
        "    top = cnt.most_common(top_n)\n",
        "    hw = sum(1 for h,a in sims_results if h>a)/sims\n",
        "    dr = sum(1 for h,a in sims_results if h==a)/sims\n",
        "    aw = sum(1 for h,a in sims_results if h<a)/sims\n",
        "    return {'means':(h_mean,a_mean),'model_probs':clf_probs,\n",
        "            'sim_probs':{'home':hw,'draw':dr,'away':aw},\n",
        "            'top_scores':top}\n",
        "\n",
        "# --------------------------\n",
        "# 8) SHAP explainability (safe version)\n",
        "# --------------------------\n",
        "def explain_fixture_shap(home_team, away_team, bg_samples=100):\n",
        "    # Validate\n",
        "    if home_team not in team_sequences or away_team not in team_sequences:\n",
        "        raise ValueError(\"Team not found.\")\n",
        "\n",
        "    # Background samples (for DeepExplainer baseline)\n",
        "    m = min(bg_samples, Xh_train.shape[0])\n",
        "    bg_idx = np.random.choice(np.arange(Xh_train.shape[0]), m, replace=False)\n",
        "    bg = [Xh_train[bg_idx], Xa_train[bg_idx]]\n",
        "\n",
        "    # Build a submodel for only the classification output\n",
        "    clf_model = Model(\n",
        "        inputs=model.inputs,\n",
        "        outputs=model.get_layer('result_out').output\n",
        "    )\n",
        "\n",
        "    # Create the SHAP DeepExplainer\n",
        "    explainer = shap.DeepExplainer(clf_model, bg)\n",
        "\n",
        "    # Build sequences for the fixture\n",
        "    def build_seq(team):\n",
        "        s = team_sequences[team]\n",
        "        if s.shape[0] >= N:\n",
        "            return s[-N:].reshape(1, N, F)\n",
        "        elif s.shape[0] == 0:\n",
        "            return np.zeros((1, N, F))\n",
        "        else:\n",
        "            pad = np.zeros((N - s.shape[0], s.shape[1]))\n",
        "            return np.vstack((pad, s)).reshape(1, N, F)\n",
        "\n",
        "    hs = build_seq(home_team)\n",
        "    as_ = build_seq(away_team)\n",
        "\n",
        "    # Compute SHAP values for the classification output only\n",
        "    shap_values = explainer.shap_values([hs, as_])\n",
        "\n",
        "    # shap_values is a list of arrays (one per class), each with two elements: [home_input, away_input]\n",
        "    # We'll take the mean of absolute SHAPs across classes\n",
        "    shap_mean_home = np.mean([np.abs(sv[0]) for sv in shap_values], axis=0)[0]\n",
        "    shap_mean_away = np.mean([np.abs(sv[1]) for sv in shap_values], axis=0)[0]\n",
        "\n",
        "    # Aggregate importance\n",
        "    home_feature_importance = np.mean(shap_mean_home, axis=0)\n",
        "    away_feature_importance = np.mean(shap_mean_away, axis=0)\n",
        "\n",
        "    feature_names = [\n",
        "        'goals_for','goals_against','shots','opp_shots',\n",
        "        'sot','opp_sot','corners','opp_corners','fouls','opp_fouls'\n",
        "    ]\n",
        "\n",
        "    explanation = {\n",
        "        'home_feature_importance': dict(zip(feature_names, home_feature_importance.tolist())),\n",
        "        'away_feature_importance': dict(zip(feature_names, away_feature_importance.tolist()))\n",
        "    }\n",
        "\n",
        "    return explanation\n",
        "\n",
        "\n",
        "\n",
        "\n",
        "# --------------------------\n",
        "# 9) Example usage\n",
        "# --------------------------\n",
        "# teams = sorted(df['HomeTeam'].unique())\n",
        "# print(\"\\nTeams (sample):\", teams[:10])\n",
        "\n",
        "# example_home, example_away = teams[0], teams[1]\n",
        "# print(f\"\\nExample: {example_home} vs {example_away}\")\n",
        "# res = predict_fixture_with_scores(example_home, example_away)\n",
        "# print(\"Expected goals:\", np.round(res['means'],2))\n",
        "# print(\"Model probs:\", np.round(res['model_probs'],3))\n",
        "# print(\"Simulated win probs:\", res['sim_probs'])\n",
        "# print(\"Top simulated scores:\", res['top_scores'])\n",
        "\n",
        "# print(\"\\nComputing SHAP explanation (this can take a bit)...\")\n",
        "# shap_expl = explain_fixture_shap(example_home, example_away, bg_samples=80)\n",
        "# print(\"Home feature importance:\")\n",
        "# for k,v in shap_expl['home_feature_importance'].items():\n",
        "#     print(f\"  {k}: {v:.6f}\")\n",
        "# print(\"Away feature importance:\")\n",
        "# for k,v in shap_expl['away_feature_importance'].items():\n",
        "#     print(f\"  {k}: {v:.6f}\")\n",
        "\n",
        "\n",
        "\n"
      ],
      "metadata": {
        "colab": {
          "base_uri": "https://localhost:8080/",
          "height": 1000
        },
        "id": "NNcXGm7oUIpx",
        "outputId": "747f71b1-cbe6-4cfe-9bf7-72f5443a5225"
      },
      "execution_count": null,
      "outputs": [
        {
          "output_type": "stream",
          "name": "stdout",
          "text": [
            "Mounted at /content/drive\n"
          ]
        },
        {
          "output_type": "stream",
          "name": "stderr",
          "text": [
            "/tmp/ipython-input-3601105076.py:22: UserWarning: The argument 'infer_datetime_format' is deprecated and will be removed in a future version. A strict version of it is now the default, see https://pandas.pydata.org/pdeps/0004-consistent-to-datetime-parsing.html. You can safely remove this argument.\n",
            "  df[date_col] = pd.to_datetime(df[date_col], errors='coerce', infer_datetime_format=True)\n"
          ]
        },
        {
          "output_type": "stream",
          "name": "stdout",
          "text": [
            "Team sequences built for: 46\n",
            " Shapes: (9380, 5, 10) (9380, 5, 10) (9380, 3)\n",
            "Train/Test: 7500 1880\n"
          ]
        },
        {
          "output_type": "stream",
          "name": "stderr",
          "text": [
            "/tmp/ipython-input-3601105076.py:90: FutureWarning: Series.view is deprecated and will be removed in a future version. Use ``astype`` as an alternative to change the dtype.\n",
            "  match_dates_num = match_dates.view(\"int64\") // 10**9\n"
          ]
        },
        {
          "output_type": "display_data",
          "data": {
            "text/plain": [
              "\u001b[1mModel: \"functional\"\u001b[0m\n"
            ],
            "text/html": [
              "<pre style=\"white-space:pre;overflow-x:auto;line-height:normal;font-family:Menlo,'DejaVu Sans Mono',consolas,'Courier New',monospace\"><span style=\"font-weight: bold\">Model: \"functional\"</span>\n",
              "</pre>\n"
            ]
          },
          "metadata": {}
        },
        {
          "output_type": "display_data",
          "data": {
            "text/plain": [
              "┏━━━━━━━━━━━━━━━━━━━━━┳━━━━━━━━━━━━━━━━━━━┳━━━━━━━━━━━━┳━━━━━━━━━━━━━━━━━━━┓\n",
              "┃\u001b[1m \u001b[0m\u001b[1mLayer (type)       \u001b[0m\u001b[1m \u001b[0m┃\u001b[1m \u001b[0m\u001b[1mOutput Shape     \u001b[0m\u001b[1m \u001b[0m┃\u001b[1m \u001b[0m\u001b[1m   Param #\u001b[0m\u001b[1m \u001b[0m┃\u001b[1m \u001b[0m\u001b[1mConnected to     \u001b[0m\u001b[1m \u001b[0m┃\n",
              "┡━━━━━━━━━━━━━━━━━━━━━╇━━━━━━━━━━━━━━━━━━━╇━━━━━━━━━━━━╇━━━━━━━━━━━━━━━━━━━┩\n",
              "│ input_layer         │ (\u001b[38;5;45mNone\u001b[0m, \u001b[38;5;34m5\u001b[0m, \u001b[38;5;34m10\u001b[0m)     │          \u001b[38;5;34m0\u001b[0m │ -                 │\n",
              "│ (\u001b[38;5;33mInputLayer\u001b[0m)        │                   │            │                   │\n",
              "├─────────────────────┼───────────────────┼────────────┼───────────────────┤\n",
              "│ input_layer_1       │ (\u001b[38;5;45mNone\u001b[0m, \u001b[38;5;34m5\u001b[0m, \u001b[38;5;34m10\u001b[0m)     │          \u001b[38;5;34m0\u001b[0m │ -                 │\n",
              "│ (\u001b[38;5;33mInputLayer\u001b[0m)        │                   │            │                   │\n",
              "├─────────────────────┼───────────────────┼────────────┼───────────────────┤\n",
              "│ bidirectional       │ (\u001b[38;5;45mNone\u001b[0m, \u001b[38;5;34m128\u001b[0m)       │     \u001b[38;5;34m38,400\u001b[0m │ input_layer[\u001b[38;5;34m0\u001b[0m][\u001b[38;5;34m0\u001b[0m] │\n",
              "│ (\u001b[38;5;33mBidirectional\u001b[0m)     │                   │            │                   │\n",
              "├─────────────────────┼───────────────────┼────────────┼───────────────────┤\n",
              "│ bidirectional_1     │ (\u001b[38;5;45mNone\u001b[0m, \u001b[38;5;34m128\u001b[0m)       │     \u001b[38;5;34m38,400\u001b[0m │ input_layer_1[\u001b[38;5;34m0\u001b[0m]… │\n",
              "│ (\u001b[38;5;33mBidirectional\u001b[0m)     │                   │            │                   │\n",
              "├─────────────────────┼───────────────────┼────────────┼───────────────────┤\n",
              "│ concatenate         │ (\u001b[38;5;45mNone\u001b[0m, \u001b[38;5;34m256\u001b[0m)       │          \u001b[38;5;34m0\u001b[0m │ bidirectional[\u001b[38;5;34m0\u001b[0m]… │\n",
              "│ (\u001b[38;5;33mConcatenate\u001b[0m)       │                   │            │ bidirectional_1[\u001b[38;5;34m…\u001b[0m │\n",
              "├─────────────────────┼───────────────────┼────────────┼───────────────────┤\n",
              "│ dense (\u001b[38;5;33mDense\u001b[0m)       │ (\u001b[38;5;45mNone\u001b[0m, \u001b[38;5;34m128\u001b[0m)       │     \u001b[38;5;34m32,896\u001b[0m │ concatenate[\u001b[38;5;34m0\u001b[0m][\u001b[38;5;34m0\u001b[0m] │\n",
              "├─────────────────────┼───────────────────┼────────────┼───────────────────┤\n",
              "│ dropout (\u001b[38;5;33mDropout\u001b[0m)   │ (\u001b[38;5;45mNone\u001b[0m, \u001b[38;5;34m128\u001b[0m)       │          \u001b[38;5;34m0\u001b[0m │ dense[\u001b[38;5;34m0\u001b[0m][\u001b[38;5;34m0\u001b[0m]       │\n",
              "├─────────────────────┼───────────────────┼────────────┼───────────────────┤\n",
              "│ result_out (\u001b[38;5;33mDense\u001b[0m)  │ (\u001b[38;5;45mNone\u001b[0m, \u001b[38;5;34m3\u001b[0m)         │        \u001b[38;5;34m387\u001b[0m │ dropout[\u001b[38;5;34m0\u001b[0m][\u001b[38;5;34m0\u001b[0m]     │\n",
              "├─────────────────────┼───────────────────┼────────────┼───────────────────┤\n",
              "│ home_goal_out       │ (\u001b[38;5;45mNone\u001b[0m, \u001b[38;5;34m1\u001b[0m)         │        \u001b[38;5;34m129\u001b[0m │ dropout[\u001b[38;5;34m0\u001b[0m][\u001b[38;5;34m0\u001b[0m]     │\n",
              "│ (\u001b[38;5;33mDense\u001b[0m)             │                   │            │                   │\n",
              "├─────────────────────┼───────────────────┼────────────┼───────────────────┤\n",
              "│ away_goal_out       │ (\u001b[38;5;45mNone\u001b[0m, \u001b[38;5;34m1\u001b[0m)         │        \u001b[38;5;34m129\u001b[0m │ dropout[\u001b[38;5;34m0\u001b[0m][\u001b[38;5;34m0\u001b[0m]     │\n",
              "│ (\u001b[38;5;33mDense\u001b[0m)             │                   │            │                   │\n",
              "└─────────────────────┴───────────────────┴────────────┴───────────────────┘\n"
            ],
            "text/html": [
              "<pre style=\"white-space:pre;overflow-x:auto;line-height:normal;font-family:Menlo,'DejaVu Sans Mono',consolas,'Courier New',monospace\">┏━━━━━━━━━━━━━━━━━━━━━┳━━━━━━━━━━━━━━━━━━━┳━━━━━━━━━━━━┳━━━━━━━━━━━━━━━━━━━┓\n",
              "┃<span style=\"font-weight: bold\"> Layer (type)        </span>┃<span style=\"font-weight: bold\"> Output Shape      </span>┃<span style=\"font-weight: bold\">    Param # </span>┃<span style=\"font-weight: bold\"> Connected to      </span>┃\n",
              "┡━━━━━━━━━━━━━━━━━━━━━╇━━━━━━━━━━━━━━━━━━━╇━━━━━━━━━━━━╇━━━━━━━━━━━━━━━━━━━┩\n",
              "│ input_layer         │ (<span style=\"color: #00d7ff; text-decoration-color: #00d7ff\">None</span>, <span style=\"color: #00af00; text-decoration-color: #00af00\">5</span>, <span style=\"color: #00af00; text-decoration-color: #00af00\">10</span>)     │          <span style=\"color: #00af00; text-decoration-color: #00af00\">0</span> │ -                 │\n",
              "│ (<span style=\"color: #0087ff; text-decoration-color: #0087ff\">InputLayer</span>)        │                   │            │                   │\n",
              "├─────────────────────┼───────────────────┼────────────┼───────────────────┤\n",
              "│ input_layer_1       │ (<span style=\"color: #00d7ff; text-decoration-color: #00d7ff\">None</span>, <span style=\"color: #00af00; text-decoration-color: #00af00\">5</span>, <span style=\"color: #00af00; text-decoration-color: #00af00\">10</span>)     │          <span style=\"color: #00af00; text-decoration-color: #00af00\">0</span> │ -                 │\n",
              "│ (<span style=\"color: #0087ff; text-decoration-color: #0087ff\">InputLayer</span>)        │                   │            │                   │\n",
              "├─────────────────────┼───────────────────┼────────────┼───────────────────┤\n",
              "│ bidirectional       │ (<span style=\"color: #00d7ff; text-decoration-color: #00d7ff\">None</span>, <span style=\"color: #00af00; text-decoration-color: #00af00\">128</span>)       │     <span style=\"color: #00af00; text-decoration-color: #00af00\">38,400</span> │ input_layer[<span style=\"color: #00af00; text-decoration-color: #00af00\">0</span>][<span style=\"color: #00af00; text-decoration-color: #00af00\">0</span>] │\n",
              "│ (<span style=\"color: #0087ff; text-decoration-color: #0087ff\">Bidirectional</span>)     │                   │            │                   │\n",
              "├─────────────────────┼───────────────────┼────────────┼───────────────────┤\n",
              "│ bidirectional_1     │ (<span style=\"color: #00d7ff; text-decoration-color: #00d7ff\">None</span>, <span style=\"color: #00af00; text-decoration-color: #00af00\">128</span>)       │     <span style=\"color: #00af00; text-decoration-color: #00af00\">38,400</span> │ input_layer_1[<span style=\"color: #00af00; text-decoration-color: #00af00\">0</span>]… │\n",
              "│ (<span style=\"color: #0087ff; text-decoration-color: #0087ff\">Bidirectional</span>)     │                   │            │                   │\n",
              "├─────────────────────┼───────────────────┼────────────┼───────────────────┤\n",
              "│ concatenate         │ (<span style=\"color: #00d7ff; text-decoration-color: #00d7ff\">None</span>, <span style=\"color: #00af00; text-decoration-color: #00af00\">256</span>)       │          <span style=\"color: #00af00; text-decoration-color: #00af00\">0</span> │ bidirectional[<span style=\"color: #00af00; text-decoration-color: #00af00\">0</span>]… │\n",
              "│ (<span style=\"color: #0087ff; text-decoration-color: #0087ff\">Concatenate</span>)       │                   │            │ bidirectional_1[<span style=\"color: #00af00; text-decoration-color: #00af00\">…</span> │\n",
              "├─────────────────────┼───────────────────┼────────────┼───────────────────┤\n",
              "│ dense (<span style=\"color: #0087ff; text-decoration-color: #0087ff\">Dense</span>)       │ (<span style=\"color: #00d7ff; text-decoration-color: #00d7ff\">None</span>, <span style=\"color: #00af00; text-decoration-color: #00af00\">128</span>)       │     <span style=\"color: #00af00; text-decoration-color: #00af00\">32,896</span> │ concatenate[<span style=\"color: #00af00; text-decoration-color: #00af00\">0</span>][<span style=\"color: #00af00; text-decoration-color: #00af00\">0</span>] │\n",
              "├─────────────────────┼───────────────────┼────────────┼───────────────────┤\n",
              "│ dropout (<span style=\"color: #0087ff; text-decoration-color: #0087ff\">Dropout</span>)   │ (<span style=\"color: #00d7ff; text-decoration-color: #00d7ff\">None</span>, <span style=\"color: #00af00; text-decoration-color: #00af00\">128</span>)       │          <span style=\"color: #00af00; text-decoration-color: #00af00\">0</span> │ dense[<span style=\"color: #00af00; text-decoration-color: #00af00\">0</span>][<span style=\"color: #00af00; text-decoration-color: #00af00\">0</span>]       │\n",
              "├─────────────────────┼───────────────────┼────────────┼───────────────────┤\n",
              "│ result_out (<span style=\"color: #0087ff; text-decoration-color: #0087ff\">Dense</span>)  │ (<span style=\"color: #00d7ff; text-decoration-color: #00d7ff\">None</span>, <span style=\"color: #00af00; text-decoration-color: #00af00\">3</span>)         │        <span style=\"color: #00af00; text-decoration-color: #00af00\">387</span> │ dropout[<span style=\"color: #00af00; text-decoration-color: #00af00\">0</span>][<span style=\"color: #00af00; text-decoration-color: #00af00\">0</span>]     │\n",
              "├─────────────────────┼───────────────────┼────────────┼───────────────────┤\n",
              "│ home_goal_out       │ (<span style=\"color: #00d7ff; text-decoration-color: #00d7ff\">None</span>, <span style=\"color: #00af00; text-decoration-color: #00af00\">1</span>)         │        <span style=\"color: #00af00; text-decoration-color: #00af00\">129</span> │ dropout[<span style=\"color: #00af00; text-decoration-color: #00af00\">0</span>][<span style=\"color: #00af00; text-decoration-color: #00af00\">0</span>]     │\n",
              "│ (<span style=\"color: #0087ff; text-decoration-color: #0087ff\">Dense</span>)             │                   │            │                   │\n",
              "├─────────────────────┼───────────────────┼────────────┼───────────────────┤\n",
              "│ away_goal_out       │ (<span style=\"color: #00d7ff; text-decoration-color: #00d7ff\">None</span>, <span style=\"color: #00af00; text-decoration-color: #00af00\">1</span>)         │        <span style=\"color: #00af00; text-decoration-color: #00af00\">129</span> │ dropout[<span style=\"color: #00af00; text-decoration-color: #00af00\">0</span>][<span style=\"color: #00af00; text-decoration-color: #00af00\">0</span>]     │\n",
              "│ (<span style=\"color: #0087ff; text-decoration-color: #0087ff\">Dense</span>)             │                   │            │                   │\n",
              "└─────────────────────┴───────────────────┴────────────┴───────────────────┘\n",
              "</pre>\n"
            ]
          },
          "metadata": {}
        },
        {
          "output_type": "display_data",
          "data": {
            "text/plain": [
              "\u001b[1m Total params: \u001b[0m\u001b[38;5;34m110,341\u001b[0m (431.02 KB)\n"
            ],
            "text/html": [
              "<pre style=\"white-space:pre;overflow-x:auto;line-height:normal;font-family:Menlo,'DejaVu Sans Mono',consolas,'Courier New',monospace\"><span style=\"font-weight: bold\"> Total params: </span><span style=\"color: #00af00; text-decoration-color: #00af00\">110,341</span> (431.02 KB)\n",
              "</pre>\n"
            ]
          },
          "metadata": {}
        },
        {
          "output_type": "display_data",
          "data": {
            "text/plain": [
              "\u001b[1m Trainable params: \u001b[0m\u001b[38;5;34m110,341\u001b[0m (431.02 KB)\n"
            ],
            "text/html": [
              "<pre style=\"white-space:pre;overflow-x:auto;line-height:normal;font-family:Menlo,'DejaVu Sans Mono',consolas,'Courier New',monospace\"><span style=\"font-weight: bold\"> Trainable params: </span><span style=\"color: #00af00; text-decoration-color: #00af00\">110,341</span> (431.02 KB)\n",
              "</pre>\n"
            ]
          },
          "metadata": {}
        },
        {
          "output_type": "display_data",
          "data": {
            "text/plain": [
              "\u001b[1m Non-trainable params: \u001b[0m\u001b[38;5;34m0\u001b[0m (0.00 B)\n"
            ],
            "text/html": [
              "<pre style=\"white-space:pre;overflow-x:auto;line-height:normal;font-family:Menlo,'DejaVu Sans Mono',consolas,'Courier New',monospace\"><span style=\"font-weight: bold\"> Non-trainable params: </span><span style=\"color: #00af00; text-decoration-color: #00af00\">0</span> (0.00 B)\n",
              "</pre>\n"
            ]
          },
          "metadata": {}
        },
        {
          "output_type": "stream",
          "name": "stdout",
          "text": [
            "Epoch 1/20\n",
            "118/118 - 14s - 115ms/step - away_goal_out_loss: 1.3253 - home_goal_out_loss: 1.6856 - loss: 2.5444 - result_out_accuracy: 0.4807 - result_out_loss: 1.0352 - val_away_goal_out_loss: 1.4558 - val_home_goal_out_loss: 1.7773 - val_loss: 2.6342 - val_result_out_accuracy: 0.5261 - val_result_out_loss: 1.0101\n",
            "Epoch 2/20\n",
            "118/118 - 2s - 17ms/step - away_goal_out_loss: 1.2275 - home_goal_out_loss: 1.5847 - loss: 2.4204 - result_out_accuracy: 0.5052 - result_out_loss: 1.0136 - val_away_goal_out_loss: 1.4562 - val_home_goal_out_loss: 1.6963 - val_loss: 2.6000 - val_result_out_accuracy: 0.4995 - val_result_out_loss: 1.0183\n",
            "Epoch 3/20\n",
            "118/118 - 2s - 18ms/step - away_goal_out_loss: 1.2048 - home_goal_out_loss: 1.5598 - loss: 2.3906 - result_out_accuracy: 0.5148 - result_out_loss: 1.0045 - val_away_goal_out_loss: 1.4459 - val_home_goal_out_loss: 1.7135 - val_loss: 2.6017 - val_result_out_accuracy: 0.5080 - val_result_out_loss: 1.0179\n",
            "Epoch 4/20\n",
            "118/118 - 2s - 17ms/step - away_goal_out_loss: 1.2076 - home_goal_out_loss: 1.5571 - loss: 2.3797 - result_out_accuracy: 0.5179 - result_out_loss: 0.9978 - val_away_goal_out_loss: 1.5542 - val_home_goal_out_loss: 1.6754 - val_loss: 2.6403 - val_result_out_accuracy: 0.4984 - val_result_out_loss: 1.0204\n",
            "Epoch 5/20\n",
            "118/118 - 2s - 21ms/step - away_goal_out_loss: 1.1999 - home_goal_out_loss: 1.5458 - loss: 2.3726 - result_out_accuracy: 0.5197 - result_out_loss: 0.9974 - val_away_goal_out_loss: 1.4271 - val_home_goal_out_loss: 1.6996 - val_loss: 2.5801 - val_result_out_accuracy: 0.5032 - val_result_out_loss: 1.0134\n",
            "Epoch 6/20\n",
            "118/118 - 4s - 35ms/step - away_goal_out_loss: 1.1871 - home_goal_out_loss: 1.5545 - loss: 2.3647 - result_out_accuracy: 0.5176 - result_out_loss: 0.9940 - val_away_goal_out_loss: 1.4403 - val_home_goal_out_loss: 1.6868 - val_loss: 2.5763 - val_result_out_accuracy: 0.5096 - val_result_out_loss: 1.0100\n",
            "Epoch 7/20\n",
            "118/118 - 3s - 27ms/step - away_goal_out_loss: 1.1956 - home_goal_out_loss: 1.5394 - loss: 2.3566 - result_out_accuracy: 0.5220 - result_out_loss: 0.9897 - val_away_goal_out_loss: 1.4382 - val_home_goal_out_loss: 1.6963 - val_loss: 2.5973 - val_result_out_accuracy: 0.5043 - val_result_out_loss: 1.0267\n",
            "Epoch 8/20\n",
            "118/118 - 2s - 17ms/step - away_goal_out_loss: 1.1883 - home_goal_out_loss: 1.5453 - loss: 2.3585 - result_out_accuracy: 0.5199 - result_out_loss: 0.9931 - val_away_goal_out_loss: 1.5223 - val_home_goal_out_loss: 1.7629 - val_loss: 2.6638 - val_result_out_accuracy: 0.5053 - val_result_out_loss: 1.0179\n",
            "Epoch 9/20\n",
            "118/118 - 2s - 17ms/step - away_goal_out_loss: 1.1867 - home_goal_out_loss: 1.5284 - loss: 2.3507 - result_out_accuracy: 0.5240 - result_out_loss: 0.9902 - val_away_goal_out_loss: 1.4490 - val_home_goal_out_loss: 1.7477 - val_loss: 2.6213 - val_result_out_accuracy: 0.4989 - val_result_out_loss: 1.0216\n",
            "Epoch 10/20\n",
            "118/118 - 3s - 23ms/step - away_goal_out_loss: 1.1898 - home_goal_out_loss: 1.5258 - loss: 2.3458 - result_out_accuracy: 0.5200 - result_out_loss: 0.9917 - val_away_goal_out_loss: 1.4468 - val_home_goal_out_loss: 1.7007 - val_loss: 2.5990 - val_result_out_accuracy: 0.5085 - val_result_out_loss: 1.0235\n",
            "Epoch 11/20\n",
            "118/118 - 4s - 34ms/step - away_goal_out_loss: 1.1806 - home_goal_out_loss: 1.5224 - loss: 2.3450 - result_out_accuracy: 0.5183 - result_out_loss: 0.9896 - val_away_goal_out_loss: 1.4516 - val_home_goal_out_loss: 1.7130 - val_loss: 2.6050 - val_result_out_accuracy: 0.5064 - val_result_out_loss: 1.0203\n",
            "Epoch 12/20\n",
            "118/118 - 2s - 21ms/step - away_goal_out_loss: 1.1832 - home_goal_out_loss: 1.5222 - loss: 2.3374 - result_out_accuracy: 0.5277 - result_out_loss: 0.9854 - val_away_goal_out_loss: 1.4804 - val_home_goal_out_loss: 1.6946 - val_loss: 2.6086 - val_result_out_accuracy: 0.5059 - val_result_out_loss: 1.0198\n",
            "Epoch 13/20\n",
            "118/118 - 2s - 19ms/step - away_goal_out_loss: 1.1854 - home_goal_out_loss: 1.5262 - loss: 2.3432 - result_out_accuracy: 0.5217 - result_out_loss: 0.9880 - val_away_goal_out_loss: 1.4498 - val_home_goal_out_loss: 1.7111 - val_loss: 2.6063 - val_result_out_accuracy: 0.5037 - val_result_out_loss: 1.0247\n",
            "Epoch 14/20\n",
            "118/118 - 2s - 17ms/step - away_goal_out_loss: 1.1875 - home_goal_out_loss: 1.5087 - loss: 2.3282 - result_out_accuracy: 0.5267 - result_out_loss: 0.9840 - val_away_goal_out_loss: 1.4863 - val_home_goal_out_loss: 1.7107 - val_loss: 2.6234 - val_result_out_accuracy: 0.5021 - val_result_out_loss: 1.0231\n",
            "Epoch 15/20\n",
            "118/118 - 3s - 22ms/step - away_goal_out_loss: 1.1808 - home_goal_out_loss: 1.5022 - loss: 2.3259 - result_out_accuracy: 0.5281 - result_out_loss: 0.9815 - val_away_goal_out_loss: 1.4865 - val_home_goal_out_loss: 1.7167 - val_loss: 2.6306 - val_result_out_accuracy: 0.5101 - val_result_out_loss: 1.0277\n",
            "Epoch 16/20\n",
            "118/118 - 3s - 22ms/step - away_goal_out_loss: 1.1777 - home_goal_out_loss: 1.5178 - loss: 2.3338 - result_out_accuracy: 0.5235 - result_out_loss: 0.9846 - val_away_goal_out_loss: 1.4598 - val_home_goal_out_loss: 1.7199 - val_loss: 2.6208 - val_result_out_accuracy: 0.5064 - val_result_out_loss: 1.0307\n",
            "Epoch 17/20\n",
            "118/118 - 5s - 40ms/step - away_goal_out_loss: 1.1742 - home_goal_out_loss: 1.5100 - loss: 2.3337 - result_out_accuracy: 0.5239 - result_out_loss: 0.9853 - val_away_goal_out_loss: 1.4591 - val_home_goal_out_loss: 1.7215 - val_loss: 2.6141 - val_result_out_accuracy: 0.4995 - val_result_out_loss: 1.0222\n",
            "Epoch 18/20\n",
            "118/118 - 2s - 18ms/step - away_goal_out_loss: 1.1754 - home_goal_out_loss: 1.5076 - loss: 2.3220 - result_out_accuracy: 0.5269 - result_out_loss: 0.9820 - val_away_goal_out_loss: 1.4564 - val_home_goal_out_loss: 1.7249 - val_loss: 2.6217 - val_result_out_accuracy: 0.5048 - val_result_out_loss: 1.0304\n",
            "Epoch 19/20\n",
            "118/118 - 2s - 18ms/step - away_goal_out_loss: 1.1656 - home_goal_out_loss: 1.5167 - loss: 2.3240 - result_out_accuracy: 0.5257 - result_out_loss: 0.9836 - val_away_goal_out_loss: 1.4842 - val_home_goal_out_loss: 1.7168 - val_loss: 2.6322 - val_result_out_accuracy: 0.4952 - val_result_out_loss: 1.0300\n",
            "Epoch 20/20\n",
            "118/118 - 2s - 18ms/step - away_goal_out_loss: 1.1662 - home_goal_out_loss: 1.5085 - loss: 2.3190 - result_out_accuracy: 0.5255 - result_out_loss: 0.9790 - val_away_goal_out_loss: 1.4491 - val_home_goal_out_loss: 1.7282 - val_loss: 2.6213 - val_result_out_accuracy: 0.5048 - val_result_out_loss: 1.0311\n"
          ]
        }
      ]
    },
    {
      "cell_type": "code",
      "source": [
        "2# --------------------------\n",
        "# 9) Interactive example usage\n",
        "# --------------------------\n",
        "teams = sorted(df['HomeTeam'].unique())\n",
        "print(\"\\nTeams:\")\n",
        "for i, t in enumerate(teams):\n",
        "    print(f\"{i}: {t}\")\n",
        "\n",
        "# Let user pick home and away by index\n",
        "home_idx = int(input(\"Enter the number for the HOME team: \"))\n",
        "away_idx = int(input(\"Enter the number for the AWAY team: \"))\n",
        "\n",
        "example_home, example_away = teams[home_idx], teams[away_idx]\n",
        "print(f\"\\nSelected Fixture: {example_home} vs {example_away}\")\n",
        "\n",
        "# Run prediction\n",
        "res = predict_fixture_with_scores(example_home, example_away)\n",
        "print(\"\\nExpected goals:\", np.round(res['means'],2))\n",
        "print(\"Model probs:\", np.round(res['model_probs'],3))\n",
        "print(\"Simulated win probabilities:\", res['sim_probs'])\n",
        "print(\"Top simulated scores:\", res['top_scores'])\n",
        "\n",
        "# # SHAP explanation\n",
        "# print(\"\\nComputing SHAP explanation (this can take a bit)...\")\n",
        "# shap_expl = explain_fixture_shap(example_home, example_away, bg_samples=80)\n",
        "# print(\"\\nHome feature importance:\")\n",
        "# for k,v in shap_expl['home_feature_importance'].items():\n",
        "#     print(f\"  {k}: {v:.6f}\")\n",
        "# print(\"\\nAway feature importance:\")\n",
        "# for k,v in shap_expl['away_feature_importance'].items():\n",
        "#     print(f\"  {k}: {v:.6f}\")\n"
      ],
      "metadata": {
        "colab": {
          "base_uri": "https://localhost:8080/"
        },
        "id": "UN7tB7GOaml8",
        "outputId": "6f1aae1c-cb39-41b8-f5b7-7e2d43e44b97"
      },
      "execution_count": null,
      "outputs": [
        {
          "output_type": "stream",
          "name": "stdout",
          "text": [
            "\n",
            "Teams:\n",
            "0: Arsenal\n",
            "1: Aston Villa\n",
            "2: Birmingham\n",
            "3: Blackburn\n",
            "4: Blackpool\n",
            "5: Bolton\n",
            "6: Bournemouth\n",
            "7: Bradford\n",
            "8: Brentford\n",
            "9: Brighton\n",
            "10: Burnley\n",
            "11: Cardiff\n",
            "12: Charlton\n",
            "13: Chelsea\n",
            "14: Coventry\n",
            "15: Crystal Palace\n",
            "16: Derby\n",
            "17: Everton\n",
            "18: Fulham\n",
            "19: Huddersfield\n",
            "20: Hull\n",
            "21: Ipswich\n",
            "22: Leeds\n",
            "23: Leicester\n",
            "24: Liverpool\n",
            "25: Luton\n",
            "26: Man City\n",
            "27: Man United\n",
            "28: Middlesbrough\n",
            "29: Newcastle\n",
            "30: Norwich\n",
            "31: Nott'm Forest\n",
            "32: Portsmouth\n",
            "33: QPR\n",
            "34: Reading\n",
            "35: Sheffield United\n",
            "36: Southampton\n",
            "37: Stoke\n",
            "38: Sunderland\n",
            "39: Swansea\n",
            "40: Tottenham\n",
            "41: Watford\n",
            "42: West Brom\n",
            "43: West Ham\n",
            "44: Wigan\n",
            "45: Wolves\n",
            "Enter the number for the HOME team: 17\n",
            "Enter the number for the AWAY team: 40\n",
            "\n",
            "Selected Fixture: Everton vs Tottenham\n",
            "\u001b[1m1/1\u001b[0m \u001b[32m━━━━━━━━━━━━━━━━━━━━\u001b[0m\u001b[37m\u001b[0m \u001b[1m0s\u001b[0m 67ms/step\n",
            "\n",
            "Expected goals: [1.49 1.35]\n",
            "Model probs: [0.299 0.307 0.394]\n",
            "Simulated win probabilities: {'home': 0.4282, 'draw': 0.2282, 'away': 0.3436}\n",
            "Top simulated scores: [((1, 1), 545), ((1, 0), 466), ((2, 1), 434), ((0, 1), 390), ((1, 2), 348), ((2, 0), 345)]\n"
          ]
        }
      ]
    },
    {
      "cell_type": "code",
      "source": [
        "from sklearn.metrics import mean_absolute_error\n",
        "\n",
        "# --------------------------\n",
        "# 1) Predict on test set\n",
        "# --------------------------\n",
        "y_pred_result, y_pred_home, y_pred_away = model.predict([Xh_test, Xa_test], verbose=0)\n",
        "\n",
        "# --------------------------\n",
        "# 2) Compute MAE for home and away goals\n",
        "# --------------------------\n",
        "mae_home = mean_absolute_error(hg_test, y_pred_home)\n",
        "mae_away = mean_absolute_error(ag_test, y_pred_away)\n",
        "\n",
        "print(f\"MAE - Home Goals: {mae_home:.3f}\")\n",
        "print(f\"MAE - Away Goals: {mae_away:.3f}\")\n"
      ],
      "metadata": {
        "id": "ZyIDanWmfIx2",
        "colab": {
          "base_uri": "https://localhost:8080/"
        },
        "outputId": "cae897d0-3d03-4744-cd75-fd53517df8dc"
      },
      "execution_count": null,
      "outputs": [
        {
          "output_type": "stream",
          "name": "stdout",
          "text": [
            "MAE - Home Goals: 1.037\n",
            "MAE - Away Goals: 0.931\n"
          ]
        }
      ]
    },
    {
      "cell_type": "code",
      "source": [],
      "metadata": {
        "id": "ZG458QdUnFGZ"
      },
      "execution_count": null,
      "outputs": []
    }
  ]
}